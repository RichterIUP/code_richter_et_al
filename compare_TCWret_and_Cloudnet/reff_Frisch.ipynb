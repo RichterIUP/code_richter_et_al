{
 "cells": [
  {
   "cell_type": "markdown",
   "metadata": {},
   "source": [
    "## Compare effective droplet radii"
   ]
  },
  {
   "cell_type": "code",
   "execution_count": null,
   "metadata": {},
   "outputs": [],
   "source": [
    "import os\n",
    "import netCDF4 as nc\n",
    "import datetime as dt\n",
    "import numpy as np\n",
    "import pandas as pd\n",
    "import matplotlib.pyplot as plt\n",
    "import scipy.stats\n",
    "import scipy.optimize"
   ]
  },
  {
   "cell_type": "markdown",
   "metadata": {},
   "source": [
    "Define paths where to find the data. Cloudnet data must be downloaded from Pangaea first!"
   ]
  },
  {
   "cell_type": "code",
   "execution_count": null,
   "metadata": {},
   "outputs": [],
   "source": [
    "fname_tcwret = os.getenv('HOME') + '/code_richter_et_al/data_TCWret/mixed_ice_shape.nc'\n",
    "path_cnet = os.getenv('HOME') + '/code_richter_et_al/get_cloudnet'"
   ]
  },
  {
   "cell_type": "markdown",
   "metadata": {},
   "source": [
    "Read data from TCWret and save them as Pandas.DataFrame"
   ]
  },
  {
   "cell_type": "code",
   "execution_count": null,
   "metadata": {},
   "outputs": [],
   "source": [
    "with nc.Dataset(fname_tcwret) as f:\n",
    "    seconds = f.variables['time_of_measurement'][:]\n",
    "    r_ice = f.variables['ice_water_effective_droplet_radius'][:]\n",
    "    r_liq = f.variables['liquid_water_effective_droplet_radius'][:]\n",
    "    r_liq_err = f.variables['liquid_water_effective_droplet_radius_error'][:]\n",
    "    red_chi_2 = f.variables['reduced_chi_2'][:]\n",
    "    t_cw = f.variables['liquid_water_optical_depth'][:] + f.variables['ice_water_optical_depth'][:]\n",
    "    dof = f.variables['degrees_of_freedom_of_signal'][:]\n",
    "    type_ice = f.variables['ice_shape'][:]\n",
    "    pwv = f.variables['precipitable_water_vapour'][:]\n",
    "#plt.scatter(r_liq, dof)\n",
    "\n",
    "time = np.array([])\n",
    "for ii in range(len(seconds)):\n",
    "    sec = int(seconds[ii])\n",
    "    time = np.concatenate((time, [dt.timedelta(seconds=sec) + dt.datetime(2017, 5, 1)]))\n",
    "    \n",
    "tcwret_raw = pd.DataFrame({'time': time, 'pwv(cm)': pwv, 'ri(um)': r_ice, 'rl(um)': r_liq, 'drl(um)': r_liq_err, 'red_chi_2(1)': red_chi_2, 'tcw(1)': t_cw, 'dof(1)': dof, 'type(1)': type_ice})"
   ]
  },
  {
   "cell_type": "markdown",
   "metadata": {},
   "source": [
    "Apply filtering of data"
   ]
  },
  {
   "cell_type": "code",
   "execution_count": null,
   "metadata": {},
   "outputs": [],
   "source": [
    "tau_max = 6.0\n",
    "tau_min = 0.0\n",
    "\n",
    "idx_conv = np.where((tcwret_raw['red_chi_2(1)'] <= 1.0) & (tcwret_raw['red_chi_2(1)'] >= 0.0))[0]\n",
    "idx_tau = np.where((tcwret_raw['tcw(1)'] <= tau_max) & (tcwret_raw['tcw(1)'] >= tau_min))[0]\n",
    "idx_valid = np.intersect1d(idx_conv, idx_tau)\n",
    "tcwret = tcwret_raw.iloc[idx_valid]\n",
    "\n",
    "counter = 0\n",
    "idx = np.array([])\n",
    "for ii in range(len(tcwret)):\n",
    "    if tcwret['rl(um)'].iloc[ii] < tcwret['ri(um)'].iloc[ii]:\n",
    "        idx = np.concatenate((idx, [ii]))\n",
    "        counter += 1\n",
    "tcwret = tcwret.iloc[idx]"
   ]
  },
  {
   "cell_type": "markdown",
   "metadata": {},
   "source": [
    "Read Cloudnet data. Only allow retrieval flags 0,1,3 and 4"
   ]
  },
  {
   "cell_type": "code",
   "execution_count": null,
   "metadata": {},
   "outputs": [],
   "source": [
    "reff_st_invalid = [2]\n",
    "cloudnet = {'time': [], 'rliq(um)': [], 'rliq_err(um)': []}\n",
    "for file_ in sorted(os.listdir(path_cnet)):\n",
    "    if \".nc\" in file_:\n",
    "        with nc.Dataset(os.path.join(path_cnet, file_)) as f:\n",
    "            if \"cnet\" not in file_:\n",
    "                continue\n",
    "            day_month = dt.datetime.strptime(file_, 'cnet_%m_%d.nc')\n",
    "            day = dt.datetime(2017, day_month.month, day_month.day)\n",
    "            #latitude = f.variables['latitude'][:]\n",
    "            #longitude = f.variables['longitude'][:]\n",
    "            time = f.variables['datetime'][:]\n",
    "            lwp = f.variables['liquid_water_path_per_layer'][:]\n",
    "            #lwp_st = f.variables['liquid_water_content_status'][:]\n",
    "            #iwp = f.variables['ice_water_path_per_layer'][:]\n",
    "            #iwp_st = f.variables['ice_water_content_status'][:]\n",
    "            #lwp_mwr = f.variables['liquid_water_path_MWR'][:]\n",
    "            #lwp_err_mwr = f.variables['liquid_water_path_error_MWR'][:]\n",
    "            rliq = f.variables['reff_Frisch'][:]\n",
    "            rliq_err = f.variables['reff_Frisch_error']\n",
    "            #rice = f.variables['reff_ice'][:]\n",
    "            rliq_st = f.variables['reff_Frisch_status'][:]\n",
    "            for time_idx in range(len(time)):\n",
    "                time_iter = day + dt.timedelta(seconds=int(np.round(time[time_idx]*3600)))\n",
    "                idx_liq = np.where(lwp[time_idx] > 0.0)[0]\n",
    "                reff_invalid = np.intersect1d(rliq_st[time_idx], np.array(reff_st_invalid))\n",
    "                if reff_invalid.size != 0: continue\n",
    "                if idx_liq.size == 0:\n",
    "                    continue \n",
    "                else:\n",
    "                    try:\n",
    "                        rliq_sum = np.mean(rliq[time_idx, idx_liq])\n",
    "                        rliq_err_sum = np.mean(rliq_err[time_idx, idx_liq])\n",
    "                    except AttributeError:\n",
    "                        continue\n",
    "                cloudnet['time'].append(time_iter)\n",
    "                cloudnet['rliq(um)'].append(rliq_sum)\n",
    "                cloudnet['rliq_err(um)'].append(rliq_err_sum)\n",
    "cloudnet = pd.DataFrame(cloudnet)\n",
    "idx = np.array([])\n",
    "for ii in range(len(cloudnet)):\n",
    "    if  not np.ma.is_masked(cloudnet['rliq(um)'].iloc[ii]) and not np.ma.is_masked(cloudnet['rliq_err(um)'].iloc[ii]):\n",
    "        idx = np.concatenate((idx, [ii]))\n",
    "idx = np.array(idx, dtype=int)\n",
    "cloudnet = cloudnet.iloc[idx]"
   ]
  },
  {
   "cell_type": "markdown",
   "metadata": {},
   "source": [
    "Define averaging time interval"
   ]
  },
  {
   "cell_type": "code",
   "execution_count": null,
   "metadata": {},
   "outputs": [],
   "source": [
    "delta = 2"
   ]
  },
  {
   "cell_type": "markdown",
   "metadata": {},
   "source": [
    "Average Cloudnet data"
   ]
  },
  {
   "cell_type": "code",
   "execution_count": null,
   "metadata": {},
   "outputs": [],
   "source": [
    "rice_mean = []\n",
    "rliq_mean = []\n",
    "rliq_err = []\n",
    "time_mean = []\n",
    "datetime_start = np.datetime64(\"2017-05-24T20:25:00\")\n",
    "datetime_iter = datetime_start\n",
    "datetime_stop = np.datetime64(\"2017-07-18T00:00:00\")\n",
    "while datetime_iter < datetime_stop:\n",
    "    idx = np.where((np.array(cloudnet['time']) > datetime_iter) & \\\n",
    "                   (np.array(cloudnet['time']) < datetime_iter+np.timedelta64(delta*60, 's')))[0]\n",
    "    if idx.size != 0:\n",
    "        rliq_mean.append(np.mean(np.array(cloudnet['rliq(um)'])[idx]))\n",
    "        rliq_err.append(np.mean(np.array(cloudnet['rliq_err(um)'])[idx]))\n",
    "        time_mean.append(datetime_iter)\n",
    "    datetime_iter += np.timedelta64(delta*60, 's')\n",
    "    \n",
    "cloudnet_av = pd.DataFrame({'time': time_mean, 'rliq(um)': rliq_mean, 'rliq_err(um)': rliq_err})"
   ]
  },
  {
   "cell_type": "markdown",
   "metadata": {},
   "source": [
    "Average TCWret data"
   ]
  },
  {
   "cell_type": "code",
   "execution_count": null,
   "metadata": {},
   "outputs": [],
   "source": [
    "lwp_mean = []\n",
    "iwp_mean = []\n",
    "cwp_mean = []\n",
    "rliq_mean = []\n",
    "drliq_mean = []\n",
    "rice_mean = []\n",
    "lat_mean = []\n",
    "lon_mean = []\n",
    "time_mean = []\n",
    "red_chi2_mean = []\n",
    "tcw_mean = []\n",
    "dof_mean = []\n",
    "type_mean = []\n",
    "pwv_mean = []\n",
    "datetime_start = np.datetime64(\"2017-05-24T20:25:00\")\n",
    "datetime_iter = datetime_start\n",
    "datetime_stop = np.datetime64(\"2017-07-18T00:00:00\")\n",
    "while datetime_iter < datetime_stop:\n",
    "    idx = np.where((np.array(tcwret['time']) > datetime_iter) & \\\n",
    "                   (np.array(tcwret['time']) < datetime_iter+np.timedelta64(delta*60, 's')))[0]\n",
    "    if idx.size != 0:\n",
    "        rice_mean.append(np.mean(np.array(tcwret['ri(um)'])[idx]))\n",
    "        rliq_mean.append(np.mean(np.array(tcwret['rl(um)'])[idx]))\n",
    "        drliq_mean.append(np.mean(np.array(tcwret['drl(um)'])[idx]))\n",
    "        red_chi2_mean.append(np.mean(np.array(tcwret['red_chi_2(1)'])[idx]))\n",
    "        dof_mean.append(np.mean(np.array(tcwret['dof(1)'])[idx]))\n",
    "        type_mean.append(np.mean(np.array(tcwret['type(1)'])[idx]))\n",
    "        tcw_mean.append(np.mean(np.array(tcwret['tcw(1)'])[idx]))\n",
    "        pwv_mean.append(np.mean(np.array(tcwret['pwv(cm)'])[idx]))\n",
    "        time_mean.append(datetime_iter)\n",
    "    datetime_iter += np.timedelta64(delta*60, 's')\n",
    "    \n",
    "tcwret_av = pd.DataFrame({'time': time_mean, 'pwv(cm)': pwv_mean, 'tcw(1)': tcw_mean, 'rice(um)': rice_mean, 'dof': dof_mean, 'drliq(um)': drliq_mean, 'rliq(um)': rliq_mean, 'red_chi_2': red_chi2_mean, 'type': type_mean})"
   ]
  },
  {
   "cell_type": "markdown",
   "metadata": {},
   "source": [
    "Calculate correlation coefficient, p-Value, mean and standard deviation"
   ]
  },
  {
   "cell_type": "code",
   "execution_count": null,
   "metadata": {},
   "outputs": [],
   "source": [
    "intersect, idx_tcwret, idx_cloudnet = np.intersect1d(tcwret_av['time'], cloudnet_av['time'], return_indices=True)\n",
    "xax = np.array(tcwret_av['rliq(um)'].iloc[idx_tcwret])\n",
    "yax = np.array(cloudnet_av['rliq(um)'].iloc[idx_cloudnet])\n",
    "pearsonr, pval = scipy.stats.pearsonr(xax,yax)\n",
    "\n",
    "print(\"Data\\t\\t\\tcor\\tp-Value\\tMean\\tSD\\tNumber\")\n",
    "print(\"rliq All\\t\\t{:.2f}\\t{:.2f}\\t{:.2f}\\t{:.2f}\\t{}\".format(pearsonr, pval, np.mean(xax-yax), np.std(xax-yax), xax.size))\n",
    "\n",
    "intersect, idx_tcwret, idx_cloudnet = np.intersect1d(tcwret_av['time'], cloudnet_av['time'], return_indices=True)\n",
    "xax = np.array(tcwret_av['rliq(um)'].iloc[idx_tcwret])\n",
    "yax = np.array(cloudnet_av['rliq(um)'].iloc[idx_cloudnet])\n",
    "cax = np.array(tcwret_av['pwv(cm)'].iloc[idx_tcwret])\n",
    "idx = np.where(cax < 1.0)[0]\n",
    "xax = xax[idx]\n",
    "yax = yax[idx]\n",
    "pearsonr, pval = scipy.stats.pearsonr(xax,yax)\n",
    "\n",
    "print(\"rliq PWV < 1cm\\t\\t{:.2f}\\t{:.2f}\\t{:.2f}\\t{:.2f}\\t{}\".format(pearsonr, pval, np.mean(xax-yax), np.std(xax-yax), xax.size))"
   ]
  }
 ],
 "metadata": {
  "kernelspec": {
   "display_name": "Python 3",
   "language": "python",
   "name": "python3"
  },
  "language_info": {
   "codemirror_mode": {
    "name": "ipython",
    "version": 3
   },
   "file_extension": ".py",
   "mimetype": "text/x-python",
   "name": "python",
   "nbconvert_exporter": "python",
   "pygments_lexer": "ipython3",
   "version": "3.7.6"
  }
 },
 "nbformat": 4,
 "nbformat_minor": 4
}
