{
 "cells": [
  {
   "cell_type": "markdown",
   "metadata": {},
   "source": [
    "## Compare ice water path and effective radii"
   ]
  },
  {
   "cell_type": "code",
   "execution_count": null,
   "metadata": {},
   "outputs": [],
   "source": [
    "import os\n",
    "import netCDF4 as nc\n",
    "import datetime as dt\n",
    "import numpy as np\n",
    "import pandas as pd\n",
    "import matplotlib.pyplot as plt\n",
    "import scipy.stats"
   ]
  },
  {
   "cell_type": "markdown",
   "metadata": {},
   "source": [
    "Define paths where to find the data. Cloudnet data must be downloaded from Pangaea first!"
   ]
  },
  {
   "cell_type": "code",
   "execution_count": null,
   "metadata": {},
   "outputs": [],
   "source": [
    "fname_tcwret = os.getenv('HOME') + '/code_richter_et_al/data_TCWret/mixed_ice_shape.nc'\n",
    "path_cnet = os.getenv('HOME') + '/code_richter_et_al/get_cloudnet'"
   ]
  },
  {
   "cell_type": "markdown",
   "metadata": {},
   "source": [
    "Read data from TCWret and save them as Pandas.DataFrame"
   ]
  },
  {
   "cell_type": "code",
   "execution_count": null,
   "metadata": {},
   "outputs": [],
   "source": [
    "with nc.Dataset(fname_tcwret) as f:\n",
    "    #print(f.variables)\n",
    "    seconds = f.variables['time_of_measurement'][:]\n",
    "    iwp = f.variables['ice_water_path'][:]\n",
    "    iwp_err = f.variables['ice_water_path_error'][:]\n",
    "    rliq = f.variables['liquid_water_effective_droplet_radius'][:]\n",
    "    rice = f.variables['ice_water_effective_droplet_radius'][:]\n",
    "    red_chi_2 = f.variables['reduced_chi_2'][:]\n",
    "    t_cw = f.variables['liquid_water_optical_depth'][:] + f.variables['ice_water_optical_depth'][:]\n",
    "    dof = f.variables['degrees_of_freedom_of_signal'][:]\n",
    "    pwv = f.variables['precipitable_water_vapour'][:]\n",
    "    type_ice = f.variables['ice_shape'][:]\n",
    "            \n",
    "time = np.array([])\n",
    "for ii in range(len(seconds)):\n",
    "    sec = int(seconds[ii])\n",
    "    time = np.concatenate((time, [dt.timedelta(seconds=sec) + dt.datetime(2017, 5, 1)]))\n",
    "    \n",
    "tcwret_raw = pd.DataFrame({'time': time, 'pwv(cm)': pwv, 'rliq(um)': rliq, 'rice(um)': rice, 'iwp(gm-2)': iwp, 'diwp(gm-2)': iwp_err, 'red_chi_2(1)': red_chi_2, 'tcw(1)': t_cw, 'dof(1)': dof})"
   ]
  },
  {
   "cell_type": "markdown",
   "metadata": {},
   "source": [
    "Apply filtering of data"
   ]
  },
  {
   "cell_type": "code",
   "execution_count": null,
   "metadata": {},
   "outputs": [],
   "source": [
    "tau_max = 6.0\n",
    "tau_min = 0.0\n",
    "\n",
    "idx_conv = np.where((tcwret_raw['red_chi_2(1)'] <= 1.0) & (tcwret_raw['red_chi_2(1)'] >= 0.0))[0]\n",
    "idx_tau = np.where((tcwret_raw['tcw(1)'] <= tau_max) & (tcwret_raw['tcw(1)'] >= tau_min))[0]\n",
    "idx_valid = np.intersect1d(idx_conv, idx_tau)\n",
    "tcwret = tcwret_raw.iloc[idx_valid]\n",
    "\n",
    "counter = 0\n",
    "idx = np.array([])\n",
    "for ii in range(len(tcwret)):\n",
    "    if tcwret['rliq(um)'].iloc[ii] < tcwret['rice(um)'].iloc[ii]:\n",
    "        idx = np.concatenate((idx, [ii]))\n",
    "        counter += 1\n",
    "tcwret = tcwret.iloc[idx]"
   ]
  },
  {
   "cell_type": "markdown",
   "metadata": {},
   "source": [
    "Read Cloudnet data. Only allow retrieval flags 0,1,3 and 4"
   ]
  },
  {
   "cell_type": "code",
   "execution_count": null,
   "metadata": {},
   "outputs": [],
   "source": [
    "iwc_st_invalid = [2,5,6]#,7]\n",
    "cloudnet = {'time': [], 'iwp(gm-2)': [], 'rice(um)': [], 'diwp(gm-2)': []}\n",
    "for file_ in sorted(os.listdir(path_cnet)):\n",
    "    if \".nc\" in file_:\n",
    "        with nc.Dataset(os.path.join(path_cnet, file_)) as f:\n",
    "            if \"cnet\" not in file_:\n",
    "                continue\n",
    "            day_month = dt.datetime.strptime(file_, 'cnet_%m_%d.nc')\n",
    "            day = dt.datetime(2017, day_month.month, day_month.day)\n",
    "            #latitude = f.variables['latitude'][:]\n",
    "            #longitude = f.variables['longitude'][:]\n",
    "            time = f.variables['datetime'][:]\n",
    "            height = f.variables['height'][:]\n",
    "            lwp = f.variables['liquid_water_path_per_layer'][:]\n",
    "            lwp_st = f.variables['liquid_water_content_status'][:]\n",
    "            iwc = f.variables['ice_water_content'][:]\n",
    "            iwp = f.variables['ice_water_path_per_layer'][:]\n",
    "            iwp_st = f.variables['ice_water_content_status'][:]\n",
    "            iwp_err = f.variables['ice_water_content_error'][:]\n",
    "            lwp_mwr = f.variables['liquid_water_path_MWR'][:]\n",
    "            lwp_err_mwr = f.variables['liquid_water_path_error_MWR'][:]\n",
    "            rliq = f.variables['reff_Frisch'][:]\n",
    "            rice = f.variables['reff_ice'][:]\n",
    "            rliq_st = f.variables['reff_Frisch_status'][:]\n",
    "            dz = np.diff(height)\n",
    "            dz = np.concatenate((dz, [0]))\n",
    "            for time_idx in range(len(time)):\n",
    "                time_iter = day + dt.timedelta(seconds=int(np.round(time[time_idx]*3600)))\n",
    "                idx_liq = np.where(lwp[time_idx] > 0.0)[0]\n",
    "                idx_ice = np.where(iwp[time_idx] > 0.0)[0]\n",
    "\n",
    "                iwc_invalid = np.intersect1d(iwp_st[time_idx], np.array(iwc_st_invalid))\n",
    "                if iwc_invalid.size != 0: continue\n",
    "                if idx_ice.size == 0:\n",
    "                    rice_sum = 0.0 \n",
    "                else:\n",
    "                    rice_sum = np.mean(rice[time_idx, idx_ice])\n",
    "                    iwc_err_abs = iwc[time_idx, idx_ice]*10**iwp_err[time_idx, idx_ice]*1e-2#1e-2 wegen Prozent\n",
    "\n",
    "                    diwp = iwc_err_abs * dz[idx_ice]\n",
    "                    diwp_sum = np.sum(diwp)\n",
    "                    #diwp_sum = np.sum(iwp_err[time_idx, idx_ice]*dz[idx_ice])\n",
    "                cloudnet['rice(um)'].append(rice_sum)\n",
    "                cloudnet['time'].append(time_iter)\n",
    "                cloudnet['iwp(gm-2)'].append(np.sum(iwp[time_idx]))\n",
    "                cloudnet['diwp(gm-2)'].append(diwp_sum)\n",
    "cloudnet = pd.DataFrame(cloudnet)\n",
    "idx = np.array([])\n",
    "for ii in range(len(cloudnet)):\n",
    "    if  not np.ma.is_masked(cloudnet['iwp(gm-2)'].iloc[ii]) and not np.ma.is_masked(cloudnet['diwp(gm-2)'].iloc[ii]) and not np.ma.is_masked(cloudnet['rice(um)'].iloc[ii]):\n",
    "        idx = np.concatenate((idx, [ii]))\n",
    "idx = np.array(idx, dtype=int)\n",
    "cloudnet = cloudnet.iloc[idx]"
   ]
  },
  {
   "cell_type": "markdown",
   "metadata": {},
   "source": [
    "Define averaging time interval"
   ]
  },
  {
   "cell_type": "code",
   "execution_count": null,
   "metadata": {},
   "outputs": [],
   "source": [
    "delta = 2"
   ]
  },
  {
   "cell_type": "markdown",
   "metadata": {},
   "source": [
    "Average Cloudnet data"
   ]
  },
  {
   "cell_type": "code",
   "execution_count": null,
   "metadata": {},
   "outputs": [],
   "source": [
    "lwp_mean = []\n",
    "lwp_mean_mwr = []\n",
    "iwp_mean = []\n",
    "diwp_mean = []\n",
    "cwp_mean = []\n",
    "rliq_mean = []\n",
    "rice_mean = []\n",
    "lat_mean = []\n",
    "lon_mean = []\n",
    "time_mean = []\n",
    "lwp_mean_err_mwr = []\n",
    "datetime_start = np.datetime64(\"2017-05-24T20:25:00\")\n",
    "datetime_iter = datetime_start\n",
    "datetime_stop = np.datetime64(\"2017-07-18T00:00:00\")\n",
    "while datetime_iter < datetime_stop:\n",
    "    idx = np.where((np.array(cloudnet['time']) > datetime_iter) & \\\n",
    "                   (np.array(cloudnet['time']) < datetime_iter+np.timedelta64(delta*60, 's')))[0]\n",
    "    if idx.size != 0:\n",
    "        iwp_mean.append(np.mean(np.array(cloudnet['iwp(gm-2)'])[idx]))\n",
    "        diwp_mean.append(np.mean(np.array(cloudnet['diwp(gm-2)'])[idx]))\n",
    "        rice_mean.append(np.mean(np.array(cloudnet['rice(um)'])[idx]))\n",
    "        time_mean.append(datetime_iter)\n",
    "    datetime_iter += np.timedelta64(delta*60, 's')\n",
    "    \n",
    "cloudnet_av = pd.DataFrame({'time': time_mean, 'iwp(gm-2)': iwp_mean, 'diwp(gm-2)': diwp_mean, 'rice(um)': rice_mean})"
   ]
  },
  {
   "cell_type": "markdown",
   "metadata": {},
   "source": [
    "Average TCWret data"
   ]
  },
  {
   "cell_type": "code",
   "execution_count": null,
   "metadata": {},
   "outputs": [],
   "source": [
    "lwp_mean = []\n",
    "iwp_mean = []\n",
    "diwp_mean = []\n",
    "cwp_mean = []\n",
    "rliq_mean = []\n",
    "rice_mean = []\n",
    "lat_mean = []\n",
    "lon_mean = []\n",
    "time_mean = []\n",
    "pwv_mean = []\n",
    "chi_mean = []\n",
    "dof_mean = []\n",
    "datetime_start = np.datetime64(\"2017-05-24T20:25:00\")\n",
    "datetime_iter = datetime_start\n",
    "datetime_stop = np.datetime64(\"2017-07-18T00:00:00\")\n",
    "while datetime_iter < datetime_stop:\n",
    "    idx = np.where((np.array(tcwret['time']) > datetime_iter) & \\\n",
    "                   (np.array(tcwret['time']) < datetime_iter+np.timedelta64(delta*60, 's')))[0]\n",
    "    if idx.size != 0:\n",
    "        iwp_mean.append(np.mean(np.array(tcwret['iwp(gm-2)'])[idx]))\n",
    "        diwp_mean.append(np.mean(np.array(tcwret['diwp(gm-2)'])[idx]))\n",
    "        rice_mean.append(np.mean(np.array(tcwret['rice(um)'])[idx]))\n",
    "        pwv_mean.append(np.mean(np.array(tcwret['pwv(cm)'])[idx]))\n",
    "        chi_mean.append(np.mean(np.array(tcwret['red_chi_2(1)'])[idx]))\n",
    "        dof_mean.append(np.mean(np.array(tcwret['dof(1)'])[idx]))\n",
    "        time_mean.append(datetime_iter)\n",
    "    datetime_iter += np.timedelta64(delta*60, 's')\n",
    "    \n",
    "tcwret_av = pd.DataFrame({'time': time_mean, \\\n",
    "                          'iwp(gm-2)': iwp_mean, \\\n",
    "                          'rice(um)': rice_mean, \\\n",
    "                          'diwp(gm-2)': diwp_mean, \\\n",
    "                          'pwv(cm)': pwv_mean, \\\n",
    "                          'red_chi_2(1)': chi_mean, \\\n",
    "                          'dof(1)': dof_mean})"
   ]
  },
  {
   "cell_type": "markdown",
   "metadata": {},
   "source": [
    "Calculate correlation coefficient, p-Value, mean and standard deviation"
   ]
  },
  {
   "cell_type": "code",
   "execution_count": null,
   "metadata": {},
   "outputs": [],
   "source": [
    "intersect, idx_tcwret, idx_cloudnet = np.intersect1d(tcwret_av['time'], cloudnet_av['time'], return_indices=True)\n",
    "xax = np.array(tcwret_av['iwp(gm-2)'].iloc[idx_tcwret])\n",
    "yax = np.array(cloudnet_av['iwp(gm-2)'].iloc[idx_cloudnet])\n",
    "pearsonr, pval = scipy.stats.pearsonr(xax,yax)\n",
    "\n",
    "print(\"Data\\t\\t\\tcor\\tp-Value\\tMean\\tSD\\tNumber\")\n",
    "print(\"IWP All\\t\\t\\t{:.2f}\\t{:.2f}\\t{:.2f}\\t{:.2f}\\t{}\".format(pearsonr, pval, np.mean(xax-yax), np.std(xax-yax), xax.size))\n",
    "\n",
    "intersect, idx_tcwret, idx_cloudnet = np.intersect1d(tcwret_av['time'], cloudnet_av['time'], return_indices=True)\n",
    "cax = np.array(tcwret_av['pwv(cm)'].iloc[idx_tcwret])\n",
    "idx = np.where(cax < 1.0)[0]\n",
    "xax = xax[idx]\n",
    "yax = yax[idx]\n",
    "#xax = np.array(tcwret_av['iwp(gm-2)'].iloc[idx_tcwret])\n",
    "#yax = np.array(cloudnet_av['iwp(gm-2)'].iloc[idx_cloudnet])\n",
    "pearsonr, pval = scipy.stats.pearsonr(xax,yax)\n",
    "\n",
    "print(\"IWP PWV < 1.0\\t\\t{:.2f}\\t{:.2f}\\t{:.2f}\\t{:.2f}\\t{}\".format(pearsonr, pval, np.mean(xax-yax), np.std(xax-yax), xax.size))\n",
    "\n",
    "intersect, idx_tcwret, idx_cloudnet = np.intersect1d(tcwret_av['time'], cloudnet_av['time'], return_indices=True)\n",
    "idx_rice = np.where((xax > 0.0) & (yax > 0.0))[0]\n",
    "xax_rice = np.array(tcwret_av['rice(um)'].iloc[idx_tcwret])[idx_rice]\n",
    "yax_rice = np.array(cloudnet_av['rice(um)'].iloc[idx_cloudnet])[idx_rice]\n",
    "pearsonr, pval = scipy.stats.pearsonr(xax_rice,yax_rice)\n",
    "\n",
    "print(\"rice\\t\\t\\t{:.2f}\\t{:.2f}\\t{:.2f}\\t{:.2f}\\t{}\".format(pearsonr, pval, np.mean(xax_rice-yax_rice), np.std(xax_rice-yax_rice), xax_rice.size))"
   ]
  }
 ],
 "metadata": {
  "kernelspec": {
   "display_name": "Python 3",
   "language": "python",
   "name": "python3"
  },
  "language_info": {
   "codemirror_mode": {
    "name": "ipython",
    "version": 3
   },
   "file_extension": ".py",
   "mimetype": "text/x-python",
   "name": "python",
   "nbconvert_exporter": "python",
   "pygments_lexer": "ipython3",
   "version": "3.7.6"
  }
 },
 "nbformat": 4,
 "nbformat_minor": 4
}
